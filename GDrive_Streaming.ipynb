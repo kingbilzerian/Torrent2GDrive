{
  "nbformat": 4,
  "nbformat_minor": 0,
  "metadata": {
    "colab": {
      "name": "GDrive Streaming.ipynb",
      "provenance": [],
      "collapsed_sections": [],
      "toc_visible": true,
      "mount_file_id": "1SrTXEXg77_IDjziSLoya1xeIAeO1LAas",
      "authorship_tag": "ABX9TyNbe1J5xs1n+B8zF2XYw0Xz",
      "include_colab_link": true
    },
    "kernelspec": {
      "name": "python3",
      "display_name": "Python 3"
    }
  },
  "cells": [
    {
      "cell_type": "markdown",
      "metadata": {
        "id": "view-in-github",
        "colab_type": "text"
      },
      "source": [
        "<a href=\"https://colab.research.google.com/github/JeelPatel231/Torrent2GDrive/blob/master/GDrive_Streaming.ipynb\" target=\"_parent\"><img src=\"https://colab.research.google.com/assets/colab-badge.svg\" alt=\"Open In Colab\"/></a>"
      ]
    },
    {
      "cell_type": "code",
      "metadata": {
        "id": "xWI8fiHs7eIp",
        "colab_type": "code",
        "colab": {}
      },
      "source": [
        "from google.colab import drive\n",
        "drive.mount(\"/content/drive\", force_remount=True)"
      ],
      "execution_count": 0,
      "outputs": []
    },
    {
      "cell_type": "code",
      "metadata": {
        "id": "1pDKJ6c07eNs",
        "colab_type": "code",
        "colab": {}
      },
      "source": [
        "!cd /content/drive/Shared\\ drives/Unlimited/wget && wget \"\" #enter URl between \"\" & replace unlimited with your drive-name"
      ],
      "execution_count": 0,
      "outputs": []
    }
  ]
}