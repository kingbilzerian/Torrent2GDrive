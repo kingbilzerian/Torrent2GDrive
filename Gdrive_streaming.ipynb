{
  "nbformat": 4,
  "nbformat_minor": 0,
  "metadata": {
    "colab": {
      "name": "Welcome to Colaboratory",
      "provenance": [],
      "collapsed_sections": []
    },
    "kernelspec": {
      "display_name": "Python 3",
      "name": "python3"
    }
  },
  "cells": [
    {
      "cell_type": "code",
      "metadata": {
        "id": "EbnN0gteT_zp",
        "colab_type": "code",
        "colab": {
          "base_uri": "https://localhost:8080/",
          "height": 121
        },
        "outputId": "e994e2db-05e5-4930-ad88-f514621c641c"
      },
      "source": [
        "from google.colab import drive\n",
        "drive.mount('/content/drive')"
      ],
      "execution_count": 1,
      "outputs": [
        {
          "output_type": "stream",
          "text": [
            "Go to this URL in a browser: https://accounts.google.com/o/oauth2/auth?client_id=947318989803-6bn6qk8qdgf4n4g3pfee6491hc0brc4i.apps.googleusercontent.com&redirect_uri=urn%3aietf%3awg%3aoauth%3a2.0%3aoob&response_type=code&scope=email%20https%3a%2f%2fwww.googleapis.com%2fauth%2fdocs.test%20https%3a%2f%2fwww.googleapis.com%2fauth%2fdrive%20https%3a%2f%2fwww.googleapis.com%2fauth%2fdrive.photos.readonly%20https%3a%2f%2fwww.googleapis.com%2fauth%2fpeopleapi.readonly\n",
            "\n",
            "Enter your authorization code:\n",
            "··········\n",
            "Mounted at /content/drive\n"
          ],
          "name": "stdout"
        }
      ]
    },
    {
      "cell_type": "code",
      "metadata": {
        "id": "inTVPRVSUQdf",
        "colab_type": "code",
        "colab": {
          "base_uri": "https://localhost:8080/",
          "height": 252
        },
        "cellView": "form",
        "outputId": "c137b5d2-297a-4b4f-9b44-e1f9db97c936"
      },
      "source": [
        "!apt install aria2\n",
        "\n",
        "folder = \"/content/drive/Shared\\\\ drives/Unlimited/Aria2c\" #@param {type:\"string\"}\n",
        "URL = 'https://gist.githubusercontent.com/JeelPatel231/612783fff2a35683184c8f125fb69264/raw/dfeec0fced97560fdc66693622dc39c4e4c0b2a4/authtype.sh' #@param {type:\"string\"}\n",
        "\n",
        "!cd $folder && aria2c --seed-time=0 $URL"
      ],
      "execution_count": 43,
      "outputs": [
        {
          "output_type": "stream",
          "text": [
            "\n",
            "07/28 17:58:59 [\u001b[1;32mNOTICE\u001b[0m] Downloading 1 item(s)\n",
            "\n",
            "07/28 17:58:59 [\u001b[1;32mNOTICE\u001b[0m] File already exists. Renamed to /content/drive/Shared drives/Unlimited/Aria2c/authtype.sh.\n",
            "\n",
            "07/28 17:58:59 [\u001b[1;32mNOTICE\u001b[0m] Download complete: /content/drive/Shared drives/Unlimited/Aria2c/authtype.sh\n",
            "\n",
            "Download Results:\n",
            "gid   |stat|avg speed  |path/URI\n",
            "======+====+===========+=======================================================\n",
            "459c24|\u001b[1;32mOK\u001b[0m  |    56KiB/s|/content/drive/Shared drives/Unlimited/Aria2c/authtype.sh\n",
            "\n",
            "Status Legend:\n",
            "(OK):download completed.\n"
          ],
          "name": "stdout"
        }
      ]
    },
    {
      "cell_type": "code",
      "metadata": {
        "id": "5_sDTe_wkrde",
        "colab_type": "code",
        "colab": {}
      },
      "source": [
        ""
      ],
      "execution_count": null,
      "outputs": []
    }
  ]
}
